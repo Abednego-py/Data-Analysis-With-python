{
 "cells": [
  {
   "cell_type": "markdown",
   "id": "1ff9c8f7",
   "metadata": {},
   "source": [
    "## Introduction\n",
    "\n",
    "Python is the most popular programming language data analyst/scientist used for working with data. \n",
    "\n",
    "After decades of open-source development, Python provides extensive functionality with powerful statistical and numerical libraries:\n",
    "\n",
    "- `NumPy and Pandas`: simplify analyzing and manipulating data\n",
    "\n",
    "- `Matplotlib`: provides attractive data visualizations\n",
    "\n",
    "- `Scikit-learn` : offers simple and effective predictive data analysis\n",
    "\n",
    "- `TensorFlow and PyTorch` : supply machine learning and deep learning capabilities"
   ]
  },
  {
   "cell_type": "markdown",
   "id": "8dad2275",
   "metadata": {},
   "source": [
    "## Review\n",
    "\n",
    "#### What is Data Analysis\n",
    "\n",
    "`Holistic Definition`\n",
    "\n",
    "Data analysis is the process of inspecting, cleaning, transforming, and interpreting data in order to extract meaningful insights, support decision-making, and identify trends, patterns, or anomalies. It involves using various techniques to organize and summarize data, often with the goal of answering specific questions, solving problems, or making informed decisions.\n",
    "\n",
    "`Informal and Straight-forward Definition`\n",
    "\n",
    "Data Analysis is how we make sense of data or how we use data to answer business questions\n",
    "\n",
    "\n",
    "![Data Analysis Steps](data_analysis_process.png)\n",
    "\n",
    "\n",
    "#### Problems Data Analyst solve\n",
    "\n",
    "- Customer Churn :  A company is losing customers and wants to understand why\n",
    "\n",
    "\n",
    "- Sales Forecasting : A business wants to predict future sales to plan inventory, staffing, and marketing efforts.\n",
    "\n",
    "\n",
    "- Marketing Campaign Effectiveness : A company runs several marketing campaigns and wants to know which ones are most effective.\n",
    "\n",
    "\n",
    "- Operational Efficiency : A company is experiencing bottlenecks in its production process and wants to improve operational efficiency.\n",
    "\n",
    "\n",
    "- Fraud Detection : A financial institution suspects fraudulent activity in transactions and needs to detect it quickly.\n",
    "\n"
   ]
  },
  {
   "cell_type": "markdown",
   "id": "32ee5e04",
   "metadata": {},
   "source": [
    "#### Steps to master data analysis with python\n",
    "\n",
    "- Learn how to use the libraries : numpy, pandas , matplotlib/seaborn\n",
    "- Apply the knowledge we have to a real world dataset"
   ]
  },
  {
   "cell_type": "code",
   "execution_count": null,
   "id": "052bfb49",
   "metadata": {},
   "outputs": [],
   "source": []
  }
 ],
 "metadata": {
  "kernelspec": {
   "display_name": "Python 3 (ipykernel)",
   "language": "python",
   "name": "python3"
  },
  "language_info": {
   "codemirror_mode": {
    "name": "ipython",
    "version": 3
   },
   "file_extension": ".py",
   "mimetype": "text/x-python",
   "name": "python",
   "nbconvert_exporter": "python",
   "pygments_lexer": "ipython3",
   "version": "3.11.5"
  }
 },
 "nbformat": 4,
 "nbformat_minor": 5
}
